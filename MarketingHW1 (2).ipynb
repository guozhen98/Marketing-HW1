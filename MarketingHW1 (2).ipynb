{
 "cells": [
  {
   "cell_type": "code",
   "execution_count": 34,
   "metadata": {},
   "outputs": [],
   "source": [
    "import pandas as pd\n",
    "import math\n",
    "from scipy import stats\n",
    "from numpy import random\n",
    "from numpy import *"
   ]
  },
  {
   "cell_type": "code",
   "execution_count": 2,
   "metadata": {},
   "outputs": [
    {
     "data": {
      "text/html": [
       "<div>\n",
       "<style scoped>\n",
       "    .dataframe tbody tr th:only-of-type {\n",
       "        vertical-align: middle;\n",
       "    }\n",
       "\n",
       "    .dataframe tbody tr th {\n",
       "        vertical-align: top;\n",
       "    }\n",
       "\n",
       "    .dataframe thead th {\n",
       "        text-align: right;\n",
       "    }\n",
       "</style>\n",
       "<table border=\"1\" class=\"dataframe\">\n",
       "  <thead>\n",
       "    <tr style=\"text-align: right;\">\n",
       "      <th></th>\n",
       "      <th>purchase_TF</th>\n",
       "      <th>Variant</th>\n",
       "      <th>date</th>\n",
       "      <th>id</th>\n",
       "    </tr>\n",
       "  </thead>\n",
       "  <tbody>\n",
       "    <tr>\n",
       "      <th>0</th>\n",
       "      <td>False</td>\n",
       "      <td>A</td>\n",
       "      <td>2019-11-08</td>\n",
       "      <td>0x25b44a</td>\n",
       "    </tr>\n",
       "    <tr>\n",
       "      <th>1</th>\n",
       "      <td>False</td>\n",
       "      <td>B</td>\n",
       "      <td>2020-08-27</td>\n",
       "      <td>0x46271e</td>\n",
       "    </tr>\n",
       "    <tr>\n",
       "      <th>2</th>\n",
       "      <td>False</td>\n",
       "      <td>A</td>\n",
       "      <td>2020-06-11</td>\n",
       "      <td>0x80b8f1</td>\n",
       "    </tr>\n",
       "    <tr>\n",
       "      <th>3</th>\n",
       "      <td>False</td>\n",
       "      <td>B</td>\n",
       "      <td>2020-08-22</td>\n",
       "      <td>0x8d736d</td>\n",
       "    </tr>\n",
       "    <tr>\n",
       "      <th>4</th>\n",
       "      <td>False</td>\n",
       "      <td>A</td>\n",
       "      <td>2020-08-05</td>\n",
       "      <td>0x96c9c8</td>\n",
       "    </tr>\n",
       "  </tbody>\n",
       "</table>\n",
       "</div>"
      ],
      "text/plain": [
       "   purchase_TF Variant        date        id\n",
       "0        False       A  2019-11-08  0x25b44a\n",
       "1        False       B  2020-08-27  0x46271e\n",
       "2        False       A  2020-06-11  0x80b8f1\n",
       "3        False       B  2020-08-22  0x8d736d\n",
       "4        False       A  2020-08-05  0x96c9c8"
      ]
     },
     "execution_count": 2,
     "metadata": {},
     "output_type": "execute_result"
    }
   ],
   "source": [
    "booking = pd.read_csv('AB_test_data.csv')\n",
    "booking.head()"
   ]
  },
  {
   "cell_type": "code",
   "execution_count": 3,
   "metadata": {},
   "outputs": [
    {
     "data": {
      "text/html": [
       "<div>\n",
       "<style scoped>\n",
       "    .dataframe tbody tr th:only-of-type {\n",
       "        vertical-align: middle;\n",
       "    }\n",
       "\n",
       "    .dataframe tbody tr th {\n",
       "        vertical-align: top;\n",
       "    }\n",
       "\n",
       "    .dataframe thead th {\n",
       "        text-align: right;\n",
       "    }\n",
       "</style>\n",
       "<table border=\"1\" class=\"dataframe\">\n",
       "  <thead>\n",
       "    <tr style=\"text-align: right;\">\n",
       "      <th></th>\n",
       "      <th>Variant</th>\n",
       "      <th>purchase_TF</th>\n",
       "      <th>num</th>\n",
       "    </tr>\n",
       "  </thead>\n",
       "  <tbody>\n",
       "    <tr>\n",
       "      <th>0</th>\n",
       "      <td>A</td>\n",
       "      <td>False</td>\n",
       "      <td>106298</td>\n",
       "    </tr>\n",
       "    <tr>\n",
       "      <th>1</th>\n",
       "      <td>A</td>\n",
       "      <td>True</td>\n",
       "      <td>18702</td>\n",
       "    </tr>\n",
       "    <tr>\n",
       "      <th>2</th>\n",
       "      <td>B</td>\n",
       "      <td>False</td>\n",
       "      <td>4117</td>\n",
       "    </tr>\n",
       "    <tr>\n",
       "      <th>3</th>\n",
       "      <td>B</td>\n",
       "      <td>True</td>\n",
       "      <td>883</td>\n",
       "    </tr>\n",
       "  </tbody>\n",
       "</table>\n",
       "</div>"
      ],
      "text/plain": [
       "  Variant  purchase_TF     num\n",
       "0       A        False  106298\n",
       "1       A         True   18702\n",
       "2       B        False    4117\n",
       "3       B         True     883"
      ]
     },
     "execution_count": 3,
     "metadata": {},
     "output_type": "execute_result"
    }
   ],
   "source": [
    "matrix = booking.groupby(['Variant','purchase_TF']).size().reset_index()\n",
    "matrix.rename(columns={matrix.columns[2]:'num'}, inplace = True)\n",
    "matrix"
   ]
  },
  {
   "cell_type": "code",
   "execution_count": 4,
   "metadata": {},
   "outputs": [
    {
     "name": "stdout",
     "output_type": "stream",
     "text": [
      "Pa:  0.149616\n",
      "Pb:  0.1766\n",
      "P:  0.163108\n",
      "n:  5000\n",
      "ZScore:  5.349273094732516\n"
     ]
    }
   ],
   "source": [
    "Pa = matrix.loc[1, 'num']/(matrix.loc[0, 'num']+matrix.loc[1, 'num'])\n",
    "print('Pa: ', Pa)\n",
    "Pb = matrix.loc[3, 'num']/(matrix.loc[2, 'num']+matrix.loc[3, 'num'])\n",
    "print('Pb: ', Pb)\n",
    "P = (Pa+Pb)/2\n",
    "print('P: ', P)\n",
    "n = matrix.loc[2, 'num'] + matrix.loc[3, 'num']\n",
    "print('n: ',n)\n",
    "ZScore = (Pb-Pa)/math.sqrt(Pa*(1-Pa)/n)\n",
    "print('ZScore: ',ZScore)"
   ]
  },
  {
   "cell_type": "code",
   "execution_count": 5,
   "metadata": {},
   "outputs": [
    {
     "data": {
      "text/plain": [
       "2.3263478740408408"
      ]
     },
     "execution_count": 5,
     "metadata": {},
     "output_type": "execute_result"
    }
   ],
   "source": [
    "z = stats.norm.ppf(0.99)# 置信度为95%的置信区间\n",
    "z"
   ]
  },
  {
   "cell_type": "markdown",
   "metadata": {},
   "source": [
    "# problem 2"
   ]
  },
  {
   "cell_type": "code",
   "execution_count": 6,
   "metadata": {},
   "outputs": [
    {
     "name": "stdout",
     "output_type": "stream",
     "text": [
      "tα/2:  1.959963984540054\n",
      "tβ:  -0.8416212335729142\n"
     ]
    }
   ],
   "source": [
    "Ta = stats.norm.ppf(0.975)\n",
    "print('tα/2: ', Ta)\n",
    "Tb = stats.norm.ppf(0.2)\n",
    "print('tβ: ', Tb)\n",
    "#Tb = stats.norm.interval(0.95,loc=0,scale=1)"
   ]
  },
  {
   "cell_type": "code",
   "execution_count": 7,
   "metadata": {},
   "outputs": [
    {
     "name": "stdout",
     "output_type": "stream",
     "text": [
      "c1:  0.5225012542300735\n",
      "c2:  0.5221527482873187\n"
     ]
    }
   ],
   "source": [
    "c1 = math.sqrt(2*P*(1-P))\n",
    "print('c1: ', c1)\n",
    "c2 = math.sqrt(Pa*(1-Pa) + Pb*(1-Pb))\n",
    "print('c2: ', c2)"
   ]
  },
  {
   "cell_type": "code",
   "execution_count": 8,
   "metadata": {},
   "outputs": [
    {
     "name": "stdout",
     "output_type": "stream",
     "text": [
      "0.163108\n",
      "\n"
     ]
    }
   ],
   "source": [
    "print(P)\n",
    "print()"
   ]
  },
  {
   "cell_type": "code",
   "execution_count": 9,
   "metadata": {},
   "outputs": [
    {
     "data": {
      "text/plain": [
       "2941.6814032458096"
      ]
     },
     "execution_count": 9,
     "metadata": {},
     "output_type": "execute_result"
    }
   ],
   "source": [
    "nOptim = (Ta*c1-Tb*c2)**2 * (1/(Pa-Pb)**2)\n",
    "nOptim"
   ]
  },
  {
   "cell_type": "code",
   "execution_count": null,
   "metadata": {},
   "outputs": [],
   "source": []
  },
  {
   "cell_type": "code",
   "execution_count": null,
   "metadata": {},
   "outputs": [],
   "source": []
  },
  {
   "cell_type": "code",
   "execution_count": null,
   "metadata": {},
   "outputs": [],
   "source": []
  },
  {
   "cell_type": "code",
   "execution_count": 10,
   "metadata": {},
   "outputs": [
    {
     "data": {
      "text/html": [
       "<div>\n",
       "<style scoped>\n",
       "    .dataframe tbody tr th:only-of-type {\n",
       "        vertical-align: middle;\n",
       "    }\n",
       "\n",
       "    .dataframe tbody tr th {\n",
       "        vertical-align: top;\n",
       "    }\n",
       "\n",
       "    .dataframe thead th {\n",
       "        text-align: right;\n",
       "    }\n",
       "</style>\n",
       "<table border=\"1\" class=\"dataframe\">\n",
       "  <thead>\n",
       "    <tr style=\"text-align: right;\">\n",
       "      <th></th>\n",
       "      <th>Variant</th>\n",
       "      <th>purchase_TF</th>\n",
       "      <th>num</th>\n",
       "    </tr>\n",
       "  </thead>\n",
       "  <tbody>\n",
       "    <tr>\n",
       "      <th>0</th>\n",
       "      <td>A</td>\n",
       "      <td>False</td>\n",
       "      <td>106298</td>\n",
       "    </tr>\n",
       "    <tr>\n",
       "      <th>1</th>\n",
       "      <td>A</td>\n",
       "      <td>True</td>\n",
       "      <td>18702</td>\n",
       "    </tr>\n",
       "    <tr>\n",
       "      <th>2</th>\n",
       "      <td>B</td>\n",
       "      <td>False</td>\n",
       "      <td>4117</td>\n",
       "    </tr>\n",
       "    <tr>\n",
       "      <th>3</th>\n",
       "      <td>B</td>\n",
       "      <td>True</td>\n",
       "      <td>883</td>\n",
       "    </tr>\n",
       "  </tbody>\n",
       "</table>\n",
       "</div>"
      ],
      "text/plain": [
       "  Variant  purchase_TF     num\n",
       "0       A        False  106298\n",
       "1       A         True   18702\n",
       "2       B        False    4117\n",
       "3       B         True     883"
      ]
     },
     "execution_count": 10,
     "metadata": {},
     "output_type": "execute_result"
    }
   ],
   "source": [
    "matrix"
   ]
  },
  {
   "cell_type": "code",
   "execution_count": 25,
   "metadata": {},
   "outputs": [],
   "source": [
    "def OptiNum (list1):\n",
    "    matrix = list1.groupby(['Variant','purchase_TF']).size().reset_index()\n",
    "    matrix.rename(columns={matrix.columns[2]:'num'}, inplace = True)\n",
    "    \n",
    "    Pa = matrix.loc[1, 'num']/(matrix.loc[0, 'num']+matrix.loc[1, 'num'])\n",
    "    Pb = matrix.loc[3, 'num']/(matrix.loc[2, 'num']+matrix.loc[3, 'num'])\n",
    "    P = (Pa+Pb)/2\n",
    "    \n",
    "    Ta = stats.norm.ppf(0.975)\n",
    "    Tb = stats.norm.ppf(0.2)\n",
    "    \n",
    "    c1 = math.sqrt(2*P*(1-P))\n",
    "    c2 = math.sqrt(Pa*(1-Pa) + Pb*(1-Pb))\n",
    "    \n",
    "    nOptim = (Ta*c1-Tb*c2)**2 * (1/(Pa-Pb)**2)\n",
    "    \n",
    "    return nOptim"
   ]
  },
  {
   "cell_type": "code",
   "execution_count": 26,
   "metadata": {},
   "outputs": [],
   "source": [
    "def ztest (list1,n,pa):\n",
    "    matrix = list1.groupby(['Variant','purchase_TF']).size().reset_index()\n",
    "    matrix.rename(columns={matrix.columns[2]:'num'}, inplace = True)\n",
    "    Pa = pa\n",
    "    Pb = matrix.loc[1, 'num']/(matrix.loc[0, 'num']+matrix.loc[1, 'num'])\n",
    "    P = (Pa+Pb)/2\n",
    "    ZScore = (Pb-Pa)/math.sqrt(Pb*(1-Pb)/n)\n",
    "    return ZScore"
   ]
  },
  {
   "cell_type": "code",
   "execution_count": 27,
   "metadata": {},
   "outputs": [
    {
     "data": {
      "text/plain": [
       "[3.538812740995572,\n",
       " 4.129692674930797,\n",
       " 4.039481276467514,\n",
       " 3.6761276488534276,\n",
       " 3.4469420232005343,\n",
       " 3.3086381012358568,\n",
       " 3.949021582642977,\n",
       " 3.2624026806335147,\n",
       " 3.400907432262858,\n",
       " 3.7673473082281697]"
      ]
     },
     "execution_count": 27,
     "metadata": {},
     "output_type": "execute_result"
    }
   ],
   "source": [
    "df1 = []\n",
    "for i in range(0,10):\n",
    "    booking1 = booking[booking['Variant']=='B']\n",
    "    booking2 = booking1.sample(2942)\n",
    "    zscore = ztest(booking2,2942,0.149616)\n",
    "    df1.append(zscore)\n",
    "    \n",
    "df1"
   ]
  },
  {
   "cell_type": "code",
   "execution_count": 54,
   "metadata": {},
   "outputs": [
    {
     "data": {
      "text/plain": [
       "[201, 312, 400, 962, 811, 658, 2025, 350, 176, 627]"
      ]
     },
     "execution_count": 54,
     "metadata": {},
     "output_type": "execute_result"
    }
   ],
   "source": [
    "#A = (1-0.2)/0.05\n",
    "#B = 0.2/(1-0.05)\n",
    "A = 20\n",
    "B = 0.2\n",
    "Pa = 0.149616\n",
    "\n",
    "#Pbn = []\n",
    "n = []\n",
    "n2 = []\n",
    "for i in range(10):\n",
    "    booking1 = booking[booking['Variant']=='B']\n",
    "    booking2 = booking1.sample(2942)\n",
    "    matrix = booking2.groupby(['Variant','purchase_TF']).size().reset_index()\n",
    "    matrix.rename(columns={matrix.columns[2]:'num'}, inplace = True)\n",
    "    Pb = matrix.loc[1, 'num']/(matrix.loc[0, 'num']+matrix.loc[1, 'num'])\n",
    "    c=0\n",
    "    a = 1\n",
    "    for j in booking2['purchase_TF']:\n",
    "        c+=1\n",
    "        if j == True:\n",
    "            l = Pb / Pa\n",
    "        else:\n",
    "            l = (1-Pb)/(1-Pa)\n",
    "        a = a * l\n",
    "        if a<=B or a>=A:\n",
    "            n.append(c)\n",
    "            if a<=B:\n",
    "                n2.append(c)\n",
    "            break\n",
    "n"
   ]
  },
  {
   "cell_type": "code",
   "execution_count": 55,
   "metadata": {
    "scrolled": true
   },
   "outputs": [
    {
     "data": {
      "text/plain": [
       "[658, 350, 627]"
      ]
     },
     "execution_count": 55,
     "metadata": {},
     "output_type": "execute_result"
    }
   ],
   "source": [
    "n2"
   ]
  },
  {
   "cell_type": "code",
   "execution_count": 56,
   "metadata": {},
   "outputs": [
    {
     "data": {
      "text/plain": [
       "652.2"
      ]
     },
     "execution_count": 56,
     "metadata": {},
     "output_type": "execute_result"
    }
   ],
   "source": [
    "mean(n)"
   ]
  }
 ],
 "metadata": {
  "kernelspec": {
   "display_name": "Python 3",
   "language": "python",
   "name": "python3"
  },
  "language_info": {
   "codemirror_mode": {
    "name": "ipython",
    "version": 3
   },
   "file_extension": ".py",
   "mimetype": "text/x-python",
   "name": "python",
   "nbconvert_exporter": "python",
   "pygments_lexer": "ipython3",
   "version": "3.8.3"
  }
 },
 "nbformat": 4,
 "nbformat_minor": 4
}
